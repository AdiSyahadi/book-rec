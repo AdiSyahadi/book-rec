{
 "cells": [
  {
   "cell_type": "code",
   "execution_count": 3,
   "metadata": {
    "_cell_guid": "b1076dfc-b9ad-4769-8c92-a6c4dae69d19",
    "_uuid": "8f2839f25d086af736a60e9eeb907d3b93b6e0e5",
    "execution": {
     "iopub.execute_input": "2021-07-10T15:26:43.255196Z",
     "iopub.status.busy": "2021-07-10T15:26:43.254768Z",
     "iopub.status.idle": "2021-07-10T15:26:43.29093Z",
     "shell.execute_reply": "2021-07-10T15:26:43.28931Z",
     "shell.execute_reply.started": "2021-07-10T15:26:43.255104Z"
    }
   },
   "outputs": [],
   "source": [
    "# This Python 3 environment comes with many helpful analytics libraries installed\n",
    "# It is defined by the kaggle/python Docker image: https://github.com/kaggle/docker-python\n",
    "# For example, here's several helpful packages to load\n",
    "\n",
    "import numpy as np # linear algebra\n",
    "import pandas as pd # data processing, CSV file I/O (e.g. pd.read_csv)\n",
    "\n",
    "# Input data files are available in the read-only \"../input/\" directory\n",
    "# For example, running this (by clicking run or pressing Shift+Enter) will list all files under the input directory\n",
    "\n",
    "import os\n",
    "for dirname, _, filenames in os.walk('/kaggle/input'):\n",
    "    for filename in filenames:\n",
    "        print(os.path.join(dirname, filename))\n",
    "\n",
    "# You can write up to 20GB to the current directory (/kaggle/working/) that gets preserved as output when you create a version using \"Save & Run All\" \n",
    "# You can also write temporary files to /kaggle/temp/, but they won't be saved outside of the current session"
   ]
  },
  {
   "cell_type": "code",
   "execution_count": 6,
   "metadata": {
    "execution": {
     "iopub.execute_input": "2021-07-10T15:26:43.29447Z",
     "iopub.status.busy": "2021-07-10T15:26:43.294037Z",
     "iopub.status.idle": "2021-07-10T15:26:43.535384Z",
     "shell.execute_reply": "2021-07-10T15:26:43.534403Z",
     "shell.execute_reply.started": "2021-07-10T15:26:43.294425Z"
    }
   },
   "outputs": [],
   "source": [
    "df = pd.read_csv('books.csv')"
   ]
  },
  {
   "cell_type": "code",
   "execution_count": 7,
   "metadata": {
    "execution": {
     "iopub.execute_input": "2021-07-10T15:26:43.537371Z",
     "iopub.status.busy": "2021-07-10T15:26:43.537061Z",
     "iopub.status.idle": "2021-07-10T15:26:43.584483Z",
     "shell.execute_reply": "2021-07-10T15:26:43.583184Z",
     "shell.execute_reply.started": "2021-07-10T15:26:43.537342Z"
    }
   },
   "outputs": [
    {
     "data": {
      "text/html": [
       "<div>\n",
       "<style scoped>\n",
       "    .dataframe tbody tr th:only-of-type {\n",
       "        vertical-align: middle;\n",
       "    }\n",
       "\n",
       "    .dataframe tbody tr th {\n",
       "        vertical-align: top;\n",
       "    }\n",
       "\n",
       "    .dataframe thead th {\n",
       "        text-align: right;\n",
       "    }\n",
       "</style>\n",
       "<table border=\"1\" class=\"dataframe\">\n",
       "  <thead>\n",
       "    <tr style=\"text-align: right;\">\n",
       "      <th></th>\n",
       "      <th>id</th>\n",
       "      <th>book_id</th>\n",
       "      <th>best_book_id</th>\n",
       "      <th>work_id</th>\n",
       "      <th>books_count</th>\n",
       "      <th>isbn</th>\n",
       "      <th>isbn13</th>\n",
       "      <th>authors</th>\n",
       "      <th>original_publication_year</th>\n",
       "      <th>original_title</th>\n",
       "      <th>...</th>\n",
       "      <th>ratings_count</th>\n",
       "      <th>work_ratings_count</th>\n",
       "      <th>work_text_reviews_count</th>\n",
       "      <th>ratings_1</th>\n",
       "      <th>ratings_2</th>\n",
       "      <th>ratings_3</th>\n",
       "      <th>ratings_4</th>\n",
       "      <th>ratings_5</th>\n",
       "      <th>image_url</th>\n",
       "      <th>small_image_url</th>\n",
       "    </tr>\n",
       "  </thead>\n",
       "  <tbody>\n",
       "    <tr>\n",
       "      <th>0</th>\n",
       "      <td>1</td>\n",
       "      <td>2767052</td>\n",
       "      <td>2767052</td>\n",
       "      <td>2792775</td>\n",
       "      <td>272</td>\n",
       "      <td>439023483</td>\n",
       "      <td>9.780439e+12</td>\n",
       "      <td>Suzanne Collins</td>\n",
       "      <td>2008.0</td>\n",
       "      <td>The Hunger Games</td>\n",
       "      <td>...</td>\n",
       "      <td>4780653</td>\n",
       "      <td>4942365</td>\n",
       "      <td>155254</td>\n",
       "      <td>66715</td>\n",
       "      <td>127936</td>\n",
       "      <td>560092</td>\n",
       "      <td>1481305</td>\n",
       "      <td>2706317</td>\n",
       "      <td>https://images.gr-assets.com/books/1447303603m...</td>\n",
       "      <td>https://images.gr-assets.com/books/1447303603s...</td>\n",
       "    </tr>\n",
       "    <tr>\n",
       "      <th>1</th>\n",
       "      <td>2</td>\n",
       "      <td>3</td>\n",
       "      <td>3</td>\n",
       "      <td>4640799</td>\n",
       "      <td>491</td>\n",
       "      <td>439554934</td>\n",
       "      <td>9.780440e+12</td>\n",
       "      <td>J.K. Rowling, Mary GrandPré</td>\n",
       "      <td>1997.0</td>\n",
       "      <td>Harry Potter and the Philosopher's Stone</td>\n",
       "      <td>...</td>\n",
       "      <td>4602479</td>\n",
       "      <td>4800065</td>\n",
       "      <td>75867</td>\n",
       "      <td>75504</td>\n",
       "      <td>101676</td>\n",
       "      <td>455024</td>\n",
       "      <td>1156318</td>\n",
       "      <td>3011543</td>\n",
       "      <td>https://images.gr-assets.com/books/1474154022m...</td>\n",
       "      <td>https://images.gr-assets.com/books/1474154022s...</td>\n",
       "    </tr>\n",
       "    <tr>\n",
       "      <th>2</th>\n",
       "      <td>3</td>\n",
       "      <td>41865</td>\n",
       "      <td>41865</td>\n",
       "      <td>3212258</td>\n",
       "      <td>226</td>\n",
       "      <td>316015849</td>\n",
       "      <td>9.780316e+12</td>\n",
       "      <td>Stephenie Meyer</td>\n",
       "      <td>2005.0</td>\n",
       "      <td>Twilight</td>\n",
       "      <td>...</td>\n",
       "      <td>3866839</td>\n",
       "      <td>3916824</td>\n",
       "      <td>95009</td>\n",
       "      <td>456191</td>\n",
       "      <td>436802</td>\n",
       "      <td>793319</td>\n",
       "      <td>875073</td>\n",
       "      <td>1355439</td>\n",
       "      <td>https://images.gr-assets.com/books/1361039443m...</td>\n",
       "      <td>https://images.gr-assets.com/books/1361039443s...</td>\n",
       "    </tr>\n",
       "    <tr>\n",
       "      <th>3</th>\n",
       "      <td>4</td>\n",
       "      <td>2657</td>\n",
       "      <td>2657</td>\n",
       "      <td>3275794</td>\n",
       "      <td>487</td>\n",
       "      <td>61120081</td>\n",
       "      <td>9.780061e+12</td>\n",
       "      <td>Harper Lee</td>\n",
       "      <td>1960.0</td>\n",
       "      <td>To Kill a Mockingbird</td>\n",
       "      <td>...</td>\n",
       "      <td>3198671</td>\n",
       "      <td>3340896</td>\n",
       "      <td>72586</td>\n",
       "      <td>60427</td>\n",
       "      <td>117415</td>\n",
       "      <td>446835</td>\n",
       "      <td>1001952</td>\n",
       "      <td>1714267</td>\n",
       "      <td>https://images.gr-assets.com/books/1361975680m...</td>\n",
       "      <td>https://images.gr-assets.com/books/1361975680s...</td>\n",
       "    </tr>\n",
       "    <tr>\n",
       "      <th>4</th>\n",
       "      <td>5</td>\n",
       "      <td>4671</td>\n",
       "      <td>4671</td>\n",
       "      <td>245494</td>\n",
       "      <td>1356</td>\n",
       "      <td>743273567</td>\n",
       "      <td>9.780743e+12</td>\n",
       "      <td>F. Scott Fitzgerald</td>\n",
       "      <td>1925.0</td>\n",
       "      <td>The Great Gatsby</td>\n",
       "      <td>...</td>\n",
       "      <td>2683664</td>\n",
       "      <td>2773745</td>\n",
       "      <td>51992</td>\n",
       "      <td>86236</td>\n",
       "      <td>197621</td>\n",
       "      <td>606158</td>\n",
       "      <td>936012</td>\n",
       "      <td>947718</td>\n",
       "      <td>https://images.gr-assets.com/books/1490528560m...</td>\n",
       "      <td>https://images.gr-assets.com/books/1490528560s...</td>\n",
       "    </tr>\n",
       "  </tbody>\n",
       "</table>\n",
       "<p>5 rows × 23 columns</p>\n",
       "</div>"
      ],
      "text/plain": [
       "   id  book_id  best_book_id  work_id  books_count       isbn        isbn13  \\\n",
       "0   1  2767052       2767052  2792775          272  439023483  9.780439e+12   \n",
       "1   2        3             3  4640799          491  439554934  9.780440e+12   \n",
       "2   3    41865         41865  3212258          226  316015849  9.780316e+12   \n",
       "3   4     2657          2657  3275794          487   61120081  9.780061e+12   \n",
       "4   5     4671          4671   245494         1356  743273567  9.780743e+12   \n",
       "\n",
       "                       authors  original_publication_year  \\\n",
       "0              Suzanne Collins                     2008.0   \n",
       "1  J.K. Rowling, Mary GrandPré                     1997.0   \n",
       "2              Stephenie Meyer                     2005.0   \n",
       "3                   Harper Lee                     1960.0   \n",
       "4          F. Scott Fitzgerald                     1925.0   \n",
       "\n",
       "                             original_title  ... ratings_count  \\\n",
       "0                          The Hunger Games  ...       4780653   \n",
       "1  Harry Potter and the Philosopher's Stone  ...       4602479   \n",
       "2                                  Twilight  ...       3866839   \n",
       "3                     To Kill a Mockingbird  ...       3198671   \n",
       "4                          The Great Gatsby  ...       2683664   \n",
       "\n",
       "  work_ratings_count  work_text_reviews_count  ratings_1  ratings_2  \\\n",
       "0            4942365                   155254      66715     127936   \n",
       "1            4800065                    75867      75504     101676   \n",
       "2            3916824                    95009     456191     436802   \n",
       "3            3340896                    72586      60427     117415   \n",
       "4            2773745                    51992      86236     197621   \n",
       "\n",
       "   ratings_3  ratings_4  ratings_5  \\\n",
       "0     560092    1481305    2706317   \n",
       "1     455024    1156318    3011543   \n",
       "2     793319     875073    1355439   \n",
       "3     446835    1001952    1714267   \n",
       "4     606158     936012     947718   \n",
       "\n",
       "                                           image_url  \\\n",
       "0  https://images.gr-assets.com/books/1447303603m...   \n",
       "1  https://images.gr-assets.com/books/1474154022m...   \n",
       "2  https://images.gr-assets.com/books/1361039443m...   \n",
       "3  https://images.gr-assets.com/books/1361975680m...   \n",
       "4  https://images.gr-assets.com/books/1490528560m...   \n",
       "\n",
       "                                     small_image_url  \n",
       "0  https://images.gr-assets.com/books/1447303603s...  \n",
       "1  https://images.gr-assets.com/books/1474154022s...  \n",
       "2  https://images.gr-assets.com/books/1361039443s...  \n",
       "3  https://images.gr-assets.com/books/1361975680s...  \n",
       "4  https://images.gr-assets.com/books/1490528560s...  \n",
       "\n",
       "[5 rows x 23 columns]"
      ]
     },
     "execution_count": 7,
     "metadata": {},
     "output_type": "execute_result"
    }
   ],
   "source": [
    "df.head()"
   ]
  },
  {
   "cell_type": "code",
   "execution_count": 8,
   "metadata": {
    "execution": {
     "iopub.execute_input": "2021-07-10T15:26:43.586453Z",
     "iopub.status.busy": "2021-07-10T15:26:43.586123Z",
     "iopub.status.idle": "2021-07-10T15:26:43.628446Z",
     "shell.execute_reply": "2021-07-10T15:26:43.627225Z",
     "shell.execute_reply.started": "2021-07-10T15:26:43.58642Z"
    }
   },
   "outputs": [
    {
     "data": {
      "text/plain": [
       "0"
      ]
     },
     "execution_count": 8,
     "metadata": {},
     "output_type": "execute_result"
    }
   ],
   "source": [
    "df.duplicated().sum()"
   ]
  },
  {
   "cell_type": "code",
   "execution_count": 9,
   "metadata": {
    "execution": {
     "iopub.execute_input": "2021-07-10T15:26:43.630781Z",
     "iopub.status.busy": "2021-07-10T15:26:43.630143Z",
     "iopub.status.idle": "2021-07-10T15:26:43.659368Z",
     "shell.execute_reply": "2021-07-10T15:26:43.658285Z",
     "shell.execute_reply.started": "2021-07-10T15:26:43.630728Z"
    }
   },
   "outputs": [
    {
     "name": "stdout",
     "output_type": "stream",
     "text": [
      "<class 'pandas.core.frame.DataFrame'>\n",
      "RangeIndex: 10000 entries, 0 to 9999\n",
      "Data columns (total 23 columns):\n",
      " #   Column                     Non-Null Count  Dtype  \n",
      "---  ------                     --------------  -----  \n",
      " 0   id                         10000 non-null  int64  \n",
      " 1   book_id                    10000 non-null  int64  \n",
      " 2   best_book_id               10000 non-null  int64  \n",
      " 3   work_id                    10000 non-null  int64  \n",
      " 4   books_count                10000 non-null  int64  \n",
      " 5   isbn                       9300 non-null   object \n",
      " 6   isbn13                     9415 non-null   float64\n",
      " 7   authors                    10000 non-null  object \n",
      " 8   original_publication_year  9979 non-null   float64\n",
      " 9   original_title             9415 non-null   object \n",
      " 10  title                      10000 non-null  object \n",
      " 11  language_code              8916 non-null   object \n",
      " 12  average_rating             10000 non-null  float64\n",
      " 13  ratings_count              10000 non-null  int64  \n",
      " 14  work_ratings_count         10000 non-null  int64  \n",
      " 15  work_text_reviews_count    10000 non-null  int64  \n",
      " 16  ratings_1                  10000 non-null  int64  \n",
      " 17  ratings_2                  10000 non-null  int64  \n",
      " 18  ratings_3                  10000 non-null  int64  \n",
      " 19  ratings_4                  10000 non-null  int64  \n",
      " 20  ratings_5                  10000 non-null  int64  \n",
      " 21  image_url                  10000 non-null  object \n",
      " 22  small_image_url            10000 non-null  object \n",
      "dtypes: float64(3), int64(13), object(7)\n",
      "memory usage: 1.8+ MB\n"
     ]
    }
   ],
   "source": [
    "df.info()"
   ]
  },
  {
   "cell_type": "code",
   "execution_count": 10,
   "metadata": {
    "execution": {
     "iopub.execute_input": "2021-07-10T15:26:43.660999Z",
     "iopub.status.busy": "2021-07-10T15:26:43.660675Z",
     "iopub.status.idle": "2021-07-10T15:26:43.689037Z",
     "shell.execute_reply": "2021-07-10T15:26:43.687884Z",
     "shell.execute_reply.started": "2021-07-10T15:26:43.660971Z"
    }
   },
   "outputs": [
    {
     "data": {
      "text/plain": [
       "(14, 23)"
      ]
     },
     "execution_count": 10,
     "metadata": {},
     "output_type": "execute_result"
    }
   ],
   "source": [
    "df[df['ratings_count'] == df['ratings_1'] + df['ratings_2'] + df['ratings_3'] + df['ratings_4'] + df['ratings_5']].shape\n"
   ]
  },
  {
   "cell_type": "code",
   "execution_count": 11,
   "metadata": {
    "execution": {
     "iopub.execute_input": "2021-07-10T15:26:43.690459Z",
     "iopub.status.busy": "2021-07-10T15:26:43.690185Z",
     "iopub.status.idle": "2021-07-10T15:26:43.70183Z",
     "shell.execute_reply": "2021-07-10T15:26:43.700773Z",
     "shell.execute_reply.started": "2021-07-10T15:26:43.690433Z"
    }
   },
   "outputs": [
    {
     "data": {
      "text/plain": [
       "(0, 23)"
      ]
     },
     "execution_count": 11,
     "metadata": {},
     "output_type": "execute_result"
    }
   ],
   "source": [
    "df[df['average_rating'] == (df['ratings_1'] + 2*df['ratings_2'] + 3*df['ratings_3'] + 4*df['ratings_4'] + 5*df['ratings_5'])/df['ratings_count']].shape"
   ]
  },
  {
   "cell_type": "code",
   "execution_count": 12,
   "metadata": {
    "execution": {
     "iopub.execute_input": "2021-07-10T15:26:43.704578Z",
     "iopub.status.busy": "2021-07-10T15:26:43.704257Z",
     "iopub.status.idle": "2021-07-10T15:26:43.722717Z",
     "shell.execute_reply": "2021-07-10T15:26:43.721805Z",
     "shell.execute_reply.started": "2021-07-10T15:26:43.704523Z"
    }
   },
   "outputs": [
    {
     "data": {
      "text/plain": [
       "(1, 24)"
      ]
     },
     "execution_count": 12,
     "metadata": {},
     "output_type": "execute_result"
    }
   ],
   "source": [
    "df['new_col'] = df['ratings_1'] + df['ratings_2'] + df['ratings_3'] + df['ratings_4'] + df['ratings_5']\n",
    "df[df['average_rating'] == (df['ratings_1'] + 2*df['ratings_2'] + 3*df['ratings_3'] + 4*df['ratings_4'] + 5*df['ratings_5'])/df['new_col']].shape"
   ]
  },
  {
   "cell_type": "code",
   "execution_count": 13,
   "metadata": {
    "execution": {
     "iopub.execute_input": "2021-07-10T15:26:43.724909Z",
     "iopub.status.busy": "2021-07-10T15:26:43.724377Z",
     "iopub.status.idle": "2021-07-10T15:26:43.735259Z",
     "shell.execute_reply": "2021-07-10T15:26:43.734424Z",
     "shell.execute_reply.started": "2021-07-10T15:26:43.724843Z"
    }
   },
   "outputs": [
    {
     "data": {
      "text/plain": [
       "array([1291, 2400, 3801, 3911, 4211, 4270, 4374, 4938, 5173, 5267, 5479,\n",
       "       5616, 5786, 5831, 6480, 6647, 6661, 7002, 7022, 7024, 7448, 7461,\n",
       "       7644, 7683, 7760, 8167, 8209, 8220, 8743, 8898, 8968, 9111, 9119,\n",
       "       9296, 9783, 9812])"
      ]
     },
     "execution_count": 13,
     "metadata": {},
     "output_type": "execute_result"
    }
   ],
   "source": [
    "df[df['title'].duplicated()].index.values"
   ]
  },
  {
   "cell_type": "code",
   "execution_count": 14,
   "metadata": {
    "execution": {
     "iopub.execute_input": "2021-07-10T15:26:43.737093Z",
     "iopub.status.busy": "2021-07-10T15:26:43.736551Z",
     "iopub.status.idle": "2021-07-10T15:26:43.758356Z",
     "shell.execute_reply": "2021-07-10T15:26:43.757467Z",
     "shell.execute_reply.started": "2021-07-10T15:26:43.737058Z"
    }
   },
   "outputs": [],
   "source": [
    "df = df.iloc[:,[7,8,9,10,16,17,18,19,20,21]]\n",
    "df['rating'] = round(((df['ratings_1'] + 2*df['ratings_2'] + 3*df['ratings_3'] + 4*df['ratings_4'] + 5*df['ratings_5'])/(df['ratings_1'] + df['ratings_2'] + df['ratings_3'] + df['ratings_4'] + df['ratings_5'])),1)\n",
    "df.drop(columns=['ratings_1','ratings_2','ratings_3','ratings_4','ratings_5'],inplace=True)\n",
    "df.drop_duplicates(subset=['title'],inplace=True)"
   ]
  },
  {
   "cell_type": "code",
   "execution_count": 15,
   "metadata": {
    "execution": {
     "iopub.execute_input": "2021-07-10T15:26:43.760334Z",
     "iopub.status.busy": "2021-07-10T15:26:43.759664Z",
     "iopub.status.idle": "2021-07-10T15:26:43.778772Z",
     "shell.execute_reply": "2021-07-10T15:26:43.777677Z",
     "shell.execute_reply.started": "2021-07-10T15:26:43.760288Z"
    }
   },
   "outputs": [
    {
     "name": "stdout",
     "output_type": "stream",
     "text": [
      "<class 'pandas.core.frame.DataFrame'>\n",
      "Int64Index: 9964 entries, 0 to 9999\n",
      "Data columns (total 6 columns):\n",
      " #   Column                     Non-Null Count  Dtype  \n",
      "---  ------                     --------------  -----  \n",
      " 0   authors                    9964 non-null   object \n",
      " 1   original_publication_year  9943 non-null   float64\n",
      " 2   original_title             9381 non-null   object \n",
      " 3   title                      9964 non-null   object \n",
      " 4   image_url                  9964 non-null   object \n",
      " 5   rating                     9964 non-null   float64\n",
      "dtypes: float64(2), object(4)\n",
      "memory usage: 544.9+ KB\n"
     ]
    }
   ],
   "source": [
    "df.info()"
   ]
  },
  {
   "cell_type": "code",
   "execution_count": 16,
   "metadata": {
    "execution": {
     "iopub.execute_input": "2021-07-10T15:26:43.780694Z",
     "iopub.status.busy": "2021-07-10T15:26:43.780148Z",
     "iopub.status.idle": "2021-07-10T15:26:43.785165Z",
     "shell.execute_reply": "2021-07-10T15:26:43.784396Z",
     "shell.execute_reply.started": "2021-07-10T15:26:43.780658Z"
    }
   },
   "outputs": [],
   "source": [
    "def collapse(L):\n",
    "    L1 = \"\"\n",
    "    for i in L:\n",
    "        L1 = L1 + (i.replace(\" \",\"\"))\n",
    "    return L1"
   ]
  },
  {
   "cell_type": "code",
   "execution_count": 17,
   "metadata": {
    "execution": {
     "iopub.execute_input": "2021-07-10T15:26:43.786792Z",
     "iopub.status.busy": "2021-07-10T15:26:43.78629Z",
     "iopub.status.idle": "2021-07-10T15:26:43.868047Z",
     "shell.execute_reply": "2021-07-10T15:26:43.867051Z",
     "shell.execute_reply.started": "2021-07-10T15:26:43.786746Z"
    }
   },
   "outputs": [
    {
     "data": {
      "text/html": [
       "<div>\n",
       "<style scoped>\n",
       "    .dataframe tbody tr th:only-of-type {\n",
       "        vertical-align: middle;\n",
       "    }\n",
       "\n",
       "    .dataframe tbody tr th {\n",
       "        vertical-align: top;\n",
       "    }\n",
       "\n",
       "    .dataframe thead th {\n",
       "        text-align: right;\n",
       "    }\n",
       "</style>\n",
       "<table border=\"1\" class=\"dataframe\">\n",
       "  <thead>\n",
       "    <tr style=\"text-align: right;\">\n",
       "      <th></th>\n",
       "      <th>authors</th>\n",
       "      <th>year</th>\n",
       "      <th>original_title</th>\n",
       "      <th>title</th>\n",
       "      <th>image_url</th>\n",
       "      <th>rating</th>\n",
       "      <th>tags</th>\n",
       "    </tr>\n",
       "  </thead>\n",
       "  <tbody>\n",
       "    <tr>\n",
       "      <th>0</th>\n",
       "      <td>Suzanne Collins</td>\n",
       "      <td>2008</td>\n",
       "      <td>The Hunger Games</td>\n",
       "      <td>The Hunger Games (The Hunger Games, #1)</td>\n",
       "      <td>https://images.gr-assets.com/books/1447303603m...</td>\n",
       "      <td>4.3</td>\n",
       "      <td>SuzanneCollins, The Hunger Games</td>\n",
       "    </tr>\n",
       "    <tr>\n",
       "      <th>1</th>\n",
       "      <td>J.K. Rowling, Mary GrandPré</td>\n",
       "      <td>1997</td>\n",
       "      <td>Harry Potter and the Philosopher's Stone</td>\n",
       "      <td>Harry Potter and the Sorcerer's Stone (Harry P...</td>\n",
       "      <td>https://images.gr-assets.com/books/1474154022m...</td>\n",
       "      <td>4.4</td>\n",
       "      <td>J.K.Rowling,MaryGrandPré, Harry Potter and the...</td>\n",
       "    </tr>\n",
       "    <tr>\n",
       "      <th>2</th>\n",
       "      <td>Stephenie Meyer</td>\n",
       "      <td>2005</td>\n",
       "      <td>Twilight</td>\n",
       "      <td>Twilight (Twilight, #1)</td>\n",
       "      <td>https://images.gr-assets.com/books/1361039443m...</td>\n",
       "      <td>3.6</td>\n",
       "      <td>StephenieMeyer, Twilight</td>\n",
       "    </tr>\n",
       "    <tr>\n",
       "      <th>3</th>\n",
       "      <td>Harper Lee</td>\n",
       "      <td>1960</td>\n",
       "      <td>To Kill a Mockingbird</td>\n",
       "      <td>To Kill a Mockingbird</td>\n",
       "      <td>https://images.gr-assets.com/books/1361975680m...</td>\n",
       "      <td>4.3</td>\n",
       "      <td>HarperLee, To Kill a Mockingbird</td>\n",
       "    </tr>\n",
       "    <tr>\n",
       "      <th>4</th>\n",
       "      <td>F. Scott Fitzgerald</td>\n",
       "      <td>1925</td>\n",
       "      <td>The Great Gatsby</td>\n",
       "      <td>The Great Gatsby</td>\n",
       "      <td>https://images.gr-assets.com/books/1490528560m...</td>\n",
       "      <td>3.9</td>\n",
       "      <td>F.ScottFitzgerald, The Great Gatsby</td>\n",
       "    </tr>\n",
       "  </tbody>\n",
       "</table>\n",
       "</div>"
      ],
      "text/plain": [
       "                       authors  year  \\\n",
       "0              Suzanne Collins  2008   \n",
       "1  J.K. Rowling, Mary GrandPré  1997   \n",
       "2              Stephenie Meyer  2005   \n",
       "3                   Harper Lee  1960   \n",
       "4          F. Scott Fitzgerald  1925   \n",
       "\n",
       "                             original_title  \\\n",
       "0                          The Hunger Games   \n",
       "1  Harry Potter and the Philosopher's Stone   \n",
       "2                                  Twilight   \n",
       "3                     To Kill a Mockingbird   \n",
       "4                          The Great Gatsby   \n",
       "\n",
       "                                               title  \\\n",
       "0            The Hunger Games (The Hunger Games, #1)   \n",
       "1  Harry Potter and the Sorcerer's Stone (Harry P...   \n",
       "2                            Twilight (Twilight, #1)   \n",
       "3                              To Kill a Mockingbird   \n",
       "4                                   The Great Gatsby   \n",
       "\n",
       "                                           image_url  rating  \\\n",
       "0  https://images.gr-assets.com/books/1447303603m...     4.3   \n",
       "1  https://images.gr-assets.com/books/1474154022m...     4.4   \n",
       "2  https://images.gr-assets.com/books/1361039443m...     3.6   \n",
       "3  https://images.gr-assets.com/books/1361975680m...     4.3   \n",
       "4  https://images.gr-assets.com/books/1490528560m...     3.9   \n",
       "\n",
       "                                                tags  \n",
       "0                   SuzanneCollins, The Hunger Games  \n",
       "1  J.K.Rowling,MaryGrandPré, Harry Potter and the...  \n",
       "2                           StephenieMeyer, Twilight  \n",
       "3                   HarperLee, To Kill a Mockingbird  \n",
       "4                F.ScottFitzgerald, The Great Gatsby  "
      ]
     },
     "execution_count": 17,
     "metadata": {},
     "output_type": "execute_result"
    }
   ],
   "source": [
    "# formating\n",
    "df.rename(columns={'original_publication_year': 'year'},inplace=True)\n",
    "df.dropna(inplace=True)\n",
    "df.reset_index(drop=True,inplace=True)\n",
    "df = df.astype({\"year\": int})\n",
    "df['tags'] = df['authors'].apply(collapse) + \", \" + df['original_title']\n",
    "df.head()"
   ]
  },
  {
   "cell_type": "code",
   "execution_count": 18,
   "metadata": {
    "execution": {
     "iopub.execute_input": "2021-07-10T15:26:43.869688Z",
     "iopub.status.busy": "2021-07-10T15:26:43.869336Z",
     "iopub.status.idle": "2021-07-10T15:26:43.890224Z",
     "shell.execute_reply": "2021-07-10T15:26:43.889185Z",
     "shell.execute_reply.started": "2021-07-10T15:26:43.869658Z"
    }
   },
   "outputs": [
    {
     "data": {
      "text/plain": [
       "17348"
      ]
     },
     "execution_count": 18,
     "metadata": {},
     "output_type": "execute_result"
    }
   ],
   "source": [
    "x = df['tags'].values.tolist()\n",
    "y = ''\n",
    "for i in x:\n",
    "    y = y + i\n",
    "    \n",
    "len(set(y.split()))"
   ]
  },
  {
   "cell_type": "code",
   "execution_count": 19,
   "metadata": {
    "execution": {
     "iopub.execute_input": "2021-07-10T15:26:43.891815Z",
     "iopub.status.busy": "2021-07-10T15:26:43.891466Z",
     "iopub.status.idle": "2021-07-10T15:26:52.817207Z",
     "shell.execute_reply": "2021-07-10T15:26:52.816101Z",
     "shell.execute_reply.started": "2021-07-10T15:26:43.891783Z"
    }
   },
   "outputs": [],
   "source": [
    "from sklearn.feature_extraction.text import CountVectorizer\n",
    "cv = CountVectorizer(max_features=5000,stop_words='english')\n",
    "vector = cv.fit_transform(df['tags']).toarray()\n",
    "\n",
    "from sklearn.metrics.pairwise import cosine_similarity\n",
    "similarity = cosine_similarity(vector)"
   ]
  },
  {
   "cell_type": "code",
   "execution_count": 20,
   "metadata": {
    "execution": {
     "iopub.execute_input": "2021-07-10T15:26:52.819085Z",
     "iopub.status.busy": "2021-07-10T15:26:52.81868Z",
     "iopub.status.idle": "2021-07-10T15:26:52.826222Z",
     "shell.execute_reply": "2021-07-10T15:26:52.824798Z",
     "shell.execute_reply.started": "2021-07-10T15:26:52.819042Z"
    }
   },
   "outputs": [],
   "source": [
    "def recommend(books):\n",
    "    L = []\n",
    "    index = df[df['title'] == books].index[0]\n",
    "    distances = sorted(list(enumerate(similarity[index])),reverse=True,key= lambda x: x[1])\n",
    "    for i in distances[1:11]:\n",
    "        L.append(df.iloc[i[0]].title)\n",
    "    \n",
    "    distances.clear()\n",
    "    return L"
   ]
  },
  {
   "cell_type": "code",
   "execution_count": 21,
   "metadata": {
    "execution": {
     "iopub.execute_input": "2021-07-10T15:26:52.828904Z",
     "iopub.status.busy": "2021-07-10T15:26:52.82839Z",
     "iopub.status.idle": "2021-07-10T15:28:13.26318Z",
     "shell.execute_reply": "2021-07-10T15:28:13.262163Z",
     "shell.execute_reply.started": "2021-07-10T15:26:52.828853Z"
    }
   },
   "outputs": [
    {
     "data": {
      "text/html": [
       "<div>\n",
       "<style scoped>\n",
       "    .dataframe tbody tr th:only-of-type {\n",
       "        vertical-align: middle;\n",
       "    }\n",
       "\n",
       "    .dataframe tbody tr th {\n",
       "        vertical-align: top;\n",
       "    }\n",
       "\n",
       "    .dataframe thead th {\n",
       "        text-align: right;\n",
       "    }\n",
       "</style>\n",
       "<table border=\"1\" class=\"dataframe\">\n",
       "  <thead>\n",
       "    <tr style=\"text-align: right;\">\n",
       "      <th></th>\n",
       "      <th>authors</th>\n",
       "      <th>year</th>\n",
       "      <th>original_title</th>\n",
       "      <th>title</th>\n",
       "      <th>image_url</th>\n",
       "      <th>rating</th>\n",
       "      <th>tags</th>\n",
       "      <th>similar_books</th>\n",
       "    </tr>\n",
       "  </thead>\n",
       "  <tbody>\n",
       "    <tr>\n",
       "      <th>0</th>\n",
       "      <td>Suzanne Collins</td>\n",
       "      <td>2008</td>\n",
       "      <td>The Hunger Games</td>\n",
       "      <td>The Hunger Games (The Hunger Games, #1)</td>\n",
       "      <td>https://images.gr-assets.com/books/1447303603m...</td>\n",
       "      <td>4.3</td>\n",
       "      <td>SuzanneCollins, The Hunger Games</td>\n",
       "      <td>[The Hunger Games Trilogy Boxset (The Hunger G...</td>\n",
       "    </tr>\n",
       "    <tr>\n",
       "      <th>1</th>\n",
       "      <td>J.K. Rowling, Mary GrandPré</td>\n",
       "      <td>1997</td>\n",
       "      <td>Harry Potter and the Philosopher's Stone</td>\n",
       "      <td>Harry Potter and the Sorcerer's Stone (Harry P...</td>\n",
       "      <td>https://images.gr-assets.com/books/1474154022m...</td>\n",
       "      <td>4.4</td>\n",
       "      <td>J.K.Rowling,MaryGrandPré, Harry Potter and the...</td>\n",
       "      <td>[Harry Potter and the Goblet of Fire (Harry Po...</td>\n",
       "    </tr>\n",
       "    <tr>\n",
       "      <th>2</th>\n",
       "      <td>Stephenie Meyer</td>\n",
       "      <td>2005</td>\n",
       "      <td>Twilight</td>\n",
       "      <td>Twilight (Twilight, #1)</td>\n",
       "      <td>https://images.gr-assets.com/books/1361039443m...</td>\n",
       "      <td>3.6</td>\n",
       "      <td>StephenieMeyer, Twilight</td>\n",
       "      <td>[The Twilight Collection (Twilight, #1-3), The...</td>\n",
       "    </tr>\n",
       "    <tr>\n",
       "      <th>3</th>\n",
       "      <td>Harper Lee</td>\n",
       "      <td>1960</td>\n",
       "      <td>To Kill a Mockingbird</td>\n",
       "      <td>To Kill a Mockingbird</td>\n",
       "      <td>https://images.gr-assets.com/books/1361975680m...</td>\n",
       "      <td>4.3</td>\n",
       "      <td>HarperLee, To Kill a Mockingbird</td>\n",
       "      <td>[Mockingbird, First to Kill (Nathan McBride, #...</td>\n",
       "    </tr>\n",
       "    <tr>\n",
       "      <th>4</th>\n",
       "      <td>F. Scott Fitzgerald</td>\n",
       "      <td>1925</td>\n",
       "      <td>The Great Gatsby</td>\n",
       "      <td>The Great Gatsby</td>\n",
       "      <td>https://images.gr-assets.com/books/1490528560m...</td>\n",
       "      <td>3.9</td>\n",
       "      <td>F.ScottFitzgerald, The Great Gatsby</td>\n",
       "      <td>[Kitchens of the Great Midwest, Great Expectat...</td>\n",
       "    </tr>\n",
       "  </tbody>\n",
       "</table>\n",
       "</div>"
      ],
      "text/plain": [
       "                       authors  year  \\\n",
       "0              Suzanne Collins  2008   \n",
       "1  J.K. Rowling, Mary GrandPré  1997   \n",
       "2              Stephenie Meyer  2005   \n",
       "3                   Harper Lee  1960   \n",
       "4          F. Scott Fitzgerald  1925   \n",
       "\n",
       "                             original_title  \\\n",
       "0                          The Hunger Games   \n",
       "1  Harry Potter and the Philosopher's Stone   \n",
       "2                                  Twilight   \n",
       "3                     To Kill a Mockingbird   \n",
       "4                          The Great Gatsby   \n",
       "\n",
       "                                               title  \\\n",
       "0            The Hunger Games (The Hunger Games, #1)   \n",
       "1  Harry Potter and the Sorcerer's Stone (Harry P...   \n",
       "2                            Twilight (Twilight, #1)   \n",
       "3                              To Kill a Mockingbird   \n",
       "4                                   The Great Gatsby   \n",
       "\n",
       "                                           image_url  rating  \\\n",
       "0  https://images.gr-assets.com/books/1447303603m...     4.3   \n",
       "1  https://images.gr-assets.com/books/1474154022m...     4.4   \n",
       "2  https://images.gr-assets.com/books/1361039443m...     3.6   \n",
       "3  https://images.gr-assets.com/books/1361975680m...     4.3   \n",
       "4  https://images.gr-assets.com/books/1490528560m...     3.9   \n",
       "\n",
       "                                                tags  \\\n",
       "0                   SuzanneCollins, The Hunger Games   \n",
       "1  J.K.Rowling,MaryGrandPré, Harry Potter and the...   \n",
       "2                           StephenieMeyer, Twilight   \n",
       "3                   HarperLee, To Kill a Mockingbird   \n",
       "4                F.ScottFitzgerald, The Great Gatsby   \n",
       "\n",
       "                                       similar_books  \n",
       "0  [The Hunger Games Trilogy Boxset (The Hunger G...  \n",
       "1  [Harry Potter and the Goblet of Fire (Harry Po...  \n",
       "2  [The Twilight Collection (Twilight, #1-3), The...  \n",
       "3  [Mockingbird, First to Kill (Nathan McBride, #...  \n",
       "4  [Kitchens of the Great Midwest, Great Expectat...  "
      ]
     },
     "execution_count": 21,
     "metadata": {},
     "output_type": "execute_result"
    }
   ],
   "source": [
    "df['similar_books'] = df['title'].apply(recommend)\n",
    "df.head()"
   ]
  },
  {
   "cell_type": "code",
   "execution_count": 22,
   "metadata": {
    "execution": {
     "iopub.execute_input": "2021-07-10T15:28:13.265042Z",
     "iopub.status.busy": "2021-07-10T15:28:13.264655Z",
     "iopub.status.idle": "2021-07-10T15:28:13.273236Z",
     "shell.execute_reply": "2021-07-10T15:28:13.271963Z",
     "shell.execute_reply.started": "2021-07-10T15:28:13.265009Z"
    }
   },
   "outputs": [],
   "source": [
    "def fetch_data(book,n):\n",
    "    l = df[df['title'] == book]['similar_books'].values[0]\n",
    "    authors = []\n",
    "    year = []\n",
    "    image_url = []\n",
    "    rating = []\n",
    "    for i in range(n):\n",
    "        authors.append(df[df['title'] == l[i]].authors.values[0])\n",
    "        year.append(df[df['title'] == l[i]].year.values[0])\n",
    "        image_url.append(df[df['title'] == l[i]].image_url.values[0])\n",
    "        rating.append(df[df['title'] == l[i]].rating.values[0])\n",
    "\n",
    "    \n",
    "    return authors,year,image_url,rating"
   ]
  },
  {
   "cell_type": "code",
   "execution_count": 23,
   "metadata": {
    "execution": {
     "iopub.execute_input": "2021-07-10T15:28:13.275391Z",
     "iopub.status.busy": "2021-07-10T15:28:13.274951Z",
     "iopub.status.idle": "2021-07-10T15:28:13.327566Z",
     "shell.execute_reply": "2021-07-10T15:28:13.32643Z",
     "shell.execute_reply.started": "2021-07-10T15:28:13.275348Z"
    }
   },
   "outputs": [
    {
     "data": {
      "text/plain": [
       "(['J. Ryan Stradal', 'Charles Dickens', 'C.S. Lewis', 'F. Scott Fitzgerald'],\n",
       " [2015, 1860, 1945, 1920],\n",
       " ['https://images.gr-assets.com/books/1428066565m/23398625.jpg',\n",
       "  'https://images.gr-assets.com/books/1327920219m/2623.jpg',\n",
       "  'https://images.gr-assets.com/books/1166805741m/17267.jpg',\n",
       "  'https://s.gr-assets.com/assets/nophoto/book/111x148-bcc042a9c91a29c1d680899eff700a03.png'],\n",
       " [3.8, 3.7, 4.3, 3.7])"
      ]
     },
     "execution_count": 23,
     "metadata": {},
     "output_type": "execute_result"
    }
   ],
   "source": [
    "fetch_data('The Great Gatsby',4)"
   ]
  },
  {
   "cell_type": "code",
   "execution_count": 24,
   "metadata": {
    "execution": {
     "iopub.execute_input": "2021-07-10T15:28:13.329485Z",
     "iopub.status.busy": "2021-07-10T15:28:13.329042Z",
     "iopub.status.idle": "2021-07-10T15:28:13.33922Z",
     "shell.execute_reply": "2021-07-10T15:28:13.33806Z",
     "shell.execute_reply.started": "2021-07-10T15:28:13.329436Z"
    }
   },
   "outputs": [
    {
     "data": {
      "text/plain": [
       "(9375, 6)"
      ]
     },
     "execution_count": 24,
     "metadata": {},
     "output_type": "execute_result"
    }
   ],
   "source": [
    "books = df.drop(columns=['original_title','tags'])\n",
    "books.shape"
   ]
  },
  {
   "cell_type": "code",
   "execution_count": null,
   "metadata": {
    "execution": {
     "iopub.execute_input": "2021-07-10T15:28:13.341661Z",
     "iopub.status.busy": "2021-07-10T15:28:13.341178Z",
     "iopub.status.idle": "2021-07-10T15:28:13.369951Z",
     "shell.execute_reply": "2021-07-10T15:28:13.368757Z",
     "shell.execute_reply.started": "2021-07-10T15:28:13.341613Z"
    }
   },
   "outputs": [],
   "source": [
    "import pickle\n",
    "pickle.dump(books,open('books.pkl','wb'))"
   ]
  },
  {
   "cell_type": "code",
   "execution_count": null,
   "metadata": {},
   "outputs": [],
   "source": []
  }
 ],
 "metadata": {
  "kernelspec": {
   "display_name": "Python 3",
   "language": "python",
   "name": "python3"
  },
  "language_info": {
   "codemirror_mode": {
    "name": "ipython",
    "version": 3
   },
   "file_extension": ".py",
   "mimetype": "text/x-python",
   "name": "python",
   "nbconvert_exporter": "python",
   "pygments_lexer": "ipython3",
   "version": "3.8.5"
  }
 },
 "nbformat": 4,
 "nbformat_minor": 4
}
